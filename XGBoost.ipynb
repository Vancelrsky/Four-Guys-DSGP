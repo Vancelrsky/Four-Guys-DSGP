{
 "cells": [
  {
   "cell_type": "code",
   "execution_count": 1,
   "metadata": {},
   "outputs": [],
   "source": [
    "from xgboost import XGBClassifier\n",
    "from sklearn.model_selection import train_test_split\n",
    "from sklearn.metrics import accuracy_score\n",
    "import Functions\n",
    "from sklearn.decomposition import PCA\n",
    "import pandas as pd\n",
    "import gzip"
   ]
  },
  {
   "cell_type": "code",
   "execution_count": 2,
   "metadata": {},
   "outputs": [],
   "source": [
    "with gzip.open('cleaned_data.zip','rb') as file:\n",
    "    feature_data = pd.read_csv(file,index_col=[0,1])\n",
    "\n",
    "with gzip.open('new_label_data.zip','rb') as file:\n",
    "    new_label_data = pd.read_csv(file,index_col=[0,1])\n",
    "\n",
    "data = pd.concat([feature_data,new_label_data],join='inner',ignore_index=False,axis=1)\n",
    "\n",
    "X_train, X_test, Y_train, Y_test = Functions.splitdata(data,0.2)"
   ]
  },
  {
   "cell_type": "code",
   "execution_count": 4,
   "metadata": {},
   "outputs": [
    {
     "name": "stdout",
     "output_type": "stream",
     "text": [
      "Accuracy: 81.36%\n"
     ]
    }
   ],
   "source": [
    "\n",
    "# X_train, X_test = Functions.pca_to_train_test(X_train,X_test,data)\n",
    "# fit model \n",
    "model = XGBClassifier()\n",
    "model.fit(X_train, Y_train)\n",
    "# make predictions for test data\n",
    "Y_pred = model.predict(X_test)\n",
    "predictions = [round(value) for value in Y_pred]\n",
    "# evaluate predictions\n",
    "accuracy = accuracy_score(Y_test, predictions)\n",
    "print(\"Accuracy: %.2f%%\" % (accuracy * 100.0))"
   ]
  }
 ],
 "metadata": {
  "kernelspec": {
   "display_name": "Python 3",
   "language": "python",
   "name": "python3"
  },
  "language_info": {
   "codemirror_mode": {
    "name": "ipython",
    "version": 3
   },
   "file_extension": ".py",
   "mimetype": "text/x-python",
   "name": "python",
   "nbconvert_exporter": "python",
   "pygments_lexer": "ipython3",
   "version": "3.8.4"
  },
  "orig_nbformat": 4
 },
 "nbformat": 4,
 "nbformat_minor": 2
}
