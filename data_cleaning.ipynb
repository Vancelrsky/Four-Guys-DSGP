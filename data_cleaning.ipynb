{
 "cells": [
  {
   "cell_type": "code",
   "execution_count": 2,
   "metadata": {},
   "outputs": [],
   "source": [
    "%run MyNoteBook.py\n",
    "import Functions\n",
    "from sklearn.decomposition import PCA\n",
    "import pandas as pd\n",
    "import gzip"
   ]
  },
  {
   "cell_type": "code",
   "execution_count": null,
   "metadata": {},
   "outputs": [],
   "source": [
    "uuid_list = []\n",
    "f = open('UUID List.txt', 'r')\n",
    "for line in f.readlines():\n",
    "    uuid_list.append(line.strip())\n",
    "valid_data = pd.DataFrame()\n",
    "for uuid in uuid_list:\n",
    "    df = Functions.get_df(uuid)\n",
    "    try:\n",
    "        cleaned_data = Functions.non_watch_value_imputer(df)\n",
    "        cleaned_data = Functions.KNN_for_watch_data(cleaned_data,10)\n",
    "        muti_index = pd.MultiIndex.from_product([[uuid], cleaned_data.index], names=['uuid','timestamps'])\n",
    "        cleaned_data = pd.DataFrame(cleaned_data.values, columns=cleaned_data.columns, index=muti_index)\n",
    "        valid_data = pd.concat([valid_data,cleaned_data],axis=0,ignore_index=False)\n",
    "    except:\n",
    "        print(uuid,'failed to export')\n",
    "valid_data.to_csv('cleaned_data.zip',mode = 'w',compression= 'gzip')"
   ]
  },
  {
   "cell_type": "code",
   "execution_count": 3,
   "metadata": {},
   "outputs": [],
   "source": [
    "new_label_data = pd.DataFrame()\n",
    "main_label_list = ['LYING_DOWN','SITTING','FIX_walking','FIX_running','BICYCLING','OR_standing']\n",
    "main_label_dict = {'LYING_DOWN':0,'SITTING':1,'FIX_walking':2,'FIX_running':3,'BICYCLING':4,'OR_standing':5,'Other':6}\n",
    "\n",
    "with gzip.open('cleaned_data.zip','rb') as data:\n",
    "    data = pd.read_csv(data,index_col=[0,1])\n",
    "for uuid in data.groupby('uuid').count().index:\n",
    "    X,Y,M,timestamps,feature_names,label_names = Functions.read_user_data(uuid)\n",
    "    label = pd.DataFrame(data=Y,columns=label_names)\n",
    "    label = label[main_label_list]\n",
    "    new_label = []\n",
    "    for i in label.index:\n",
    "        if label.loc[i,:].values.any() == False:\n",
    "            new_label.append(main_label_dict['Other'])\n",
    "        else:\n",
    "            for j in main_label_list:\n",
    "                if label.loc[i,j] == True:\n",
    "                    new_label.append(main_label_dict[j])\n",
    "    muti_index = pd.MultiIndex.from_product([[uuid], X.index], names=['uuid','timestamps'])\n",
    "    new_label = pd.DataFrame(data = new_label, index = muti_index,columns = ['Status'])\n",
    "    new_label_data = pd.concat([new_label_data,new_label],axis=0,ignore_index=False)\n",
    "\n",
    "new_label_data.to_csv('new_label_data.zip',mode = 'w',compression= 'gzip')"
   ]
  }
 ],
 "metadata": {
  "kernelspec": {
   "display_name": "Python 3",
   "language": "python",
   "name": "python3"
  },
  "language_info": {
   "codemirror_mode": {
    "name": "ipython",
    "version": 3
   },
   "file_extension": ".py",
   "mimetype": "text/x-python",
   "name": "python",
   "nbconvert_exporter": "python",
   "pygments_lexer": "ipython3",
   "version": "3.8.4"
  },
  "orig_nbformat": 4
 },
 "nbformat": 4,
 "nbformat_minor": 2
}
