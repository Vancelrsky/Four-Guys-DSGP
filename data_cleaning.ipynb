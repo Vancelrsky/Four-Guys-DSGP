{
 "cells": [
  {
   "cell_type": "code",
   "execution_count": 2,
   "metadata": {},
   "outputs": [],
   "source": [
    "%run MyNoteBook.py\n",
    "import Functions\n",
    "from sklearn.decomposition import PCA\n",
    "import pandas as pd\n",
    "import gzip\n",
    "import numpy as np"
   ]
  },
  {
   "cell_type": "code",
   "execution_count": 3,
   "metadata": {},
   "outputs": [
    {
     "name": "stdout",
     "output_type": "stream",
     "text": [
      "40E170A7-607B-4578-AF04-F021C3B0384A failed to export\n",
      "61359772-D8D8-480D-B623-7C636EAD0C81 failed to export\n",
      "61976C24-1C50-4355-9C49-AAE44A7D09F6 failed to export\n",
      "7D9BB102-A612-4E2A-8E22-3159752F55D8 failed to export\n",
      "CCAF77F0-FABB-4F2F-9E24-D56AD0C5A82F failed to export\n",
      "ECECC2AB-D32F-4F90-B74C-E12A1C69BBE2 failed to export\n",
      "F50235E0-DD67-4F2A-B00B-1F31ADA998B9 failed to export\n",
      "FDAA70A1-42A3-4E3F-9AE3-3FDA412E03BF failed to export\n"
     ]
    }
   ],
   "source": [
    "uuid_list = []\n",
    "f = open('UUID List.txt', 'r')\n",
    "for line in f.readlines():\n",
    "    uuid_list.append(line.strip())\n",
    "valid_data = pd.DataFrame()\n",
    "for uuid in uuid_list:\n",
    "    df = Functions.get_df(uuid)\n",
    "    try:\n",
    "        cleaned_data = Functions.non_watch_value_imputer(df)\n",
    "        cleaned_data = Functions.KNN_for_watch_data(cleaned_data,10)\n",
    "        muti_index = pd.MultiIndex.from_product([[uuid], cleaned_data.index], names=['uuid','timestamps'])\n",
    "        cleaned_data = pd.DataFrame(cleaned_data.values, columns=cleaned_data.columns, index=muti_index)\n",
    "        valid_data = pd.concat([valid_data,cleaned_data],axis=0,ignore_index=False)\n",
    "    except:\n",
    "        print(uuid,'failed to export')\n",
    "valid_data.to_csv('cleaned_data.zip',mode = 'w',compression= 'gzip')"
   ]
  },
  {
   "cell_type": "code",
   "execution_count": 4,
   "metadata": {},
   "outputs": [],
   "source": [
    "with gzip.open('cleaned_data.zip','rb') as data:\n",
    "    data = pd.read_csv(data,index_col=[0,1])\n",
    "main_label_list = [['SLEEPING'],\n",
    "                   ['FIX_restaurant','SHOPPING', 'STROLLING', 'DRINKING__ALCOHOL_','WATCHING_TV', 'SURFING_THE_INTERNET', 'AT_A_PARTY', 'AT_A_BAR', 'LOC_beach', 'SINGING', 'WITH_FRIENDS'],\n",
    "                   ['FIX_walking', 'FIX_running', 'BICYCLING','OR_exercise'],\n",
    "                   ['COOKING', 'BATHING_-_SHOWER', 'CLEANING', 'DOING_LAUNDRY', 'WASHING_DISHES', 'EATING', 'TOILET', 'GROOMING', 'DRESSING'],\n",
    "                   ['LAB_WORK', 'IN_CLASS', 'IN_A_MEETING', 'LOC_main_workplace','COMPUTER_WORK','AT_SCHOOL', 'WITH_CO-WORKERS'],\n",
    "                   ['IN_A_CAR', 'ON_A_BUS', 'DRIVE_-_I_M_THE_DRIVER', 'DRIVE_-_I_M_A_PASSENGER','STAIRS_-_GOING_DOWN', 'ELEVATOR']]\n",
    "new_label_list = ['sleep','entertainment','exercise','life_activity','efficiency','on_the_way']\n",
    "new_label_dict = {'sleep':0,'entertainment':1,'exercise':2,'life_activity':3,'efficiency':4,'on_the_way':5,'Normal':6}\n",
    "all_label_list = []\n",
    "\n",
    "for i in main_label_list:\n",
    "    all_label_list = all_label_list + i\n",
    "\n",
    "new_label_data = pd.DataFrame()\n",
    "for uuid in data.groupby('uuid').count().index:\n",
    "    X,Y,M,timestamps,feature_names,label_names = Functions.read_user_data(uuid)\n",
    "    label_pair = pd.DataFrame(\n",
    "        columns = ['Label Name'],\n",
    "        index = timestamps\n",
    "    )\n",
    "    s = Y.shape\n",
    "\n",
    "\n",
    "    for i in range(0,s[0]): #跑每個timestamps\n",
    "        arr = np.where(Y[i]==1) #尋找這個timestamp 哪些label是ture\n",
    "        temp = []\n",
    "        for j in arr[0]:\n",
    "            temp.append(label_names[j]) #將這個timestamp true的label name拼成list\n",
    "        label_pair.loc[timestamps[i], 'Label Name'] = temp #把list放進對應的dataframe位置\n",
    "\n",
    "    new_label = []\n",
    "    new_index = []\n",
    "    for index in label_pair.index:\n",
    "        label = label_pair.loc[index].values[0]\n",
    "        if bool(label) == True:\n",
    "            for num,status in enumerate(main_label_list):\n",
    "                if bool(set(status) & set(label)):\n",
    "                    new_label.append(num)\n",
    "                    new_index.append(index)\n",
    "                    break\n",
    "                elif bool(set(label) & set(all_label_list)):\n",
    "                    continue\n",
    "                else:\n",
    "                    new_label.append(new_label_dict['Normal'])\n",
    "                    new_index.append(index)\n",
    "                    break \n",
    "\n",
    "    muti_index = pd.MultiIndex.from_product([[uuid], new_index], names=['uuid','timestamps'])\n",
    "    new_label = pd.DataFrame(data = new_label, index = muti_index,columns = ['Status'])\n",
    "    new_label_data = pd.concat([new_label_data,new_label],axis=0,ignore_index=False)\n",
    "\n",
    "new_label_data.to_csv('new_label_data.zip',mode = 'w',compression= 'gzip')"
   ]
  }
 ],
 "metadata": {
  "kernelspec": {
   "display_name": "Python 3",
   "language": "python",
   "name": "python3"
  },
  "language_info": {
   "codemirror_mode": {
    "name": "ipython",
    "version": 3
   },
   "file_extension": ".py",
   "mimetype": "text/x-python",
   "name": "python",
   "nbconvert_exporter": "python",
   "pygments_lexer": "ipython3",
   "version": "3.8.4"
  },
  "orig_nbformat": 4
 },
 "nbformat": 4,
 "nbformat_minor": 2
}
