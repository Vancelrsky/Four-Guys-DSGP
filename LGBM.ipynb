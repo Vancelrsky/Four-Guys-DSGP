{
 "cells": [
  {
   "cell_type": "code",
   "execution_count": 1,
   "metadata": {},
   "outputs": [],
   "source": [
    "import Functions\n",
    "import lightgbm as lgb\n",
    "import pandas as pd\n",
    "import gzip"
   ]
  },
  {
   "cell_type": "code",
   "execution_count": 2,
   "metadata": {},
   "outputs": [],
   "source": [
    "with gzip.open('cleaned_data.zip','rb') as file:\n",
    "    feature_data = pd.read_csv(file,index_col=[0,1])\n",
    "\n",
    "with gzip.open('new_label_data.zip','rb') as file:\n",
    "    new_label_data = pd.read_csv(file,index_col=[0,1])\n",
    "\n",
    "data = pd.concat([feature_data,new_label_data],join='inner',ignore_index=False,axis=1)\n",
    "\n",
    "X_train, X_test, Y_train, Y_test = Functions.splitdata(data,0.2)"
   ]
  },
  {
   "cell_type": "code",
   "execution_count": 3,
   "metadata": {},
   "outputs": [
    {
     "name": "stderr",
     "output_type": "stream",
     "text": [
      "c:\\Users\\xiang\\AppData\\Local\\Programs\\Python\\Python38\\lib\\site-packages\\sklearn\\preprocessing\\_label.py:98: DataConversionWarning: A column-vector y was passed when a 1d array was expected. Please change the shape of y to (n_samples, ), for example using ravel().\n",
      "  y = column_or_1d(y, warn=True)\n",
      "c:\\Users\\xiang\\AppData\\Local\\Programs\\Python\\Python38\\lib\\site-packages\\sklearn\\preprocessing\\_label.py:133: DataConversionWarning: A column-vector y was passed when a 1d array was expected. Please change the shape of y to (n_samples, ), for example using ravel().\n",
      "  y = column_or_1d(y, warn=True)\n"
     ]
    },
    {
     "name": "stdout",
     "output_type": "stream",
     "text": [
      "0.9369472488371594\n",
      "0.8675930691370732\n"
     ]
    }
   ],
   "source": [
    "cw = {0:1,1:1,4:1,6:1,2:2.5,3:7,5:10}\n",
    "gbm = lgb.LGBMClassifier(objective = 'multiclass',num_leaves=20,learning_rate=0.1,n_estimators=1000,class_weight = \"balanced\")\n",
    "gbm.fit(X_train,pd.DataFrame(Y_train))\n",
    "y_pred = gbm.predict(X_test, num_iteration=gbm.best_iteration_)\n",
    "accuracy = gbm.score(X_test,Y_test)\n",
    "print(gbm.score(X_train,Y_train))\n",
    "print(accuracy)"
   ]
  }
 ],
 "metadata": {
  "kernelspec": {
   "display_name": "Python 3",
   "language": "python",
   "name": "python3"
  },
  "language_info": {
   "codemirror_mode": {
    "name": "ipython",
    "version": 3
   },
   "file_extension": ".py",
   "mimetype": "text/x-python",
   "name": "python",
   "nbconvert_exporter": "python",
   "pygments_lexer": "ipython3",
   "version": "3.8.4"
  },
  "orig_nbformat": 4
 },
 "nbformat": 4,
 "nbformat_minor": 2
}
