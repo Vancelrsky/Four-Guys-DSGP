{
 "cells": [
  {
   "cell_type": "code",
   "execution_count": 6,
   "metadata": {},
   "outputs": [],
   "source": [
    "import MyNoteBook"
   ]
  },
  {
   "cell_type": "code",
   "execution_count": 7,
   "metadata": {},
   "outputs": [],
   "source": [
    "import Valid_Datasets"
   ]
  },
  {
   "cell_type": "code",
   "execution_count": 21,
   "metadata": {},
   "outputs": [
    {
     "name": "stdout",
     "output_type": "stream",
     "text": [
      "(4973, 29)\n"
     ]
    },
    {
     "data": {
      "text/plain": [
       "raw_acc:magnitude_stats:mean                  0\n",
       "raw_acc:3d:mean_x                             0\n",
       "raw_acc:3d:mean_y                             0\n",
       "raw_acc:3d:mean_z                             0\n",
       "proc_gyro:magnitude_stats:mean                0\n",
       "proc_gyro:3d:mean_x                           0\n",
       "proc_gyro:3d:mean_y                           0\n",
       "proc_gyro:3d:mean_z                           0\n",
       "raw_magnet:magnitude_stats:mean               0\n",
       "raw_magnet:3d:mean_x                          0\n",
       "raw_magnet:3d:mean_y                          0\n",
       "raw_magnet:3d:mean_z                          0\n",
       "audio_naive:mfcc0:mean                        0\n",
       "audio_naive:mfcc1:mean                        0\n",
       "audio_naive:mfcc2:mean                        0\n",
       "audio_naive:mfcc3:mean                        0\n",
       "audio_naive:mfcc4:mean                        0\n",
       "audio_naive:mfcc5:mean                        0\n",
       "audio_naive:mfcc6:mean                        0\n",
       "audio_naive:mfcc7:mean                        0\n",
       "audio_naive:mfcc8:mean                        0\n",
       "audio_naive:mfcc9:mean                        0\n",
       "audio_naive:mfcc10:mean                       0\n",
       "audio_naive:mfcc11:mean                       0\n",
       "audio_naive:mfcc12:mean                       0\n",
       "watch_acceleration:magnitude_stats:mean    4973\n",
       "watch_acceleration:3d:mean_x               4973\n",
       "watch_acceleration:3d:mean_y               4973\n",
       "watch_acceleration:3d:mean_z               4973\n",
       "dtype: int64"
      ]
     },
     "execution_count": 21,
     "metadata": {},
     "output_type": "execute_result"
    }
   ],
   "source": [
    "instance = Valid_Datasets.get_df('FDAA70A1-42A3-4E3F-9AE3-3FDA412E03BF')\n",
    "\n",
    "test_example = instance\n",
    "\n",
    "cleaned_data = Valid_Datasets.non_watch_value_imputer(test_example)\n",
    "#cleaned_data = Valid_Datasets.KNN_for_watch_data(cleaned_data,10)\n",
    "print(cleaned_data.shape)\n",
    "cleaned_data.isnull().sum()"
   ]
  },
  {
   "cell_type": "code",
   "execution_count": 9,
   "metadata": {},
   "outputs": [
    {
     "name": "stdout",
     "output_type": "stream",
     "text": [
      "['0BFC35E2-4817-4865-BFA7-764742302A2D', '0E6184E1-90C0-48EE-B25A-F1ECB7B9714E', '1155FF54-63D3-4AB2-9863-8385D0BD0A13', '1DBB0F6F-1F81-4A50-9DF4-CD62ACFA4842', '27E04243-B138-4F40-A164-F40B60165CF3', '00EABED2-271D-49D8-B599-1D4A09240601', '098A72A5-E3E5-4F54-A152-BBDA0DF7B694', '0A986513-7828-4D53-AA1F-E02D6DF9561B', '11B5EC4D-4133-4289-B475-4E737182A406', '136562B6-95B2-483D-88DC-065F28409FD2', '1538C99F-BA1E-4EFB-A949-6C7C47701B20', '24E40C4C-A349-4F9F-93AB-01D00FB994AF']\n"
     ]
    }
   ],
   "source": [
    "print(Valid_Datasets.get_cross_validation('test',0))"
   ]
  }
 ],
 "metadata": {
  "kernelspec": {
   "display_name": "Python 3",
   "language": "python",
   "name": "python3"
  },
  "language_info": {
   "codemirror_mode": {
    "name": "ipython",
    "version": 3
   },
   "file_extension": ".py",
   "mimetype": "text/x-python",
   "name": "python",
   "nbconvert_exporter": "python",
   "pygments_lexer": "ipython3",
   "version": "3.8.4"
  },
  "orig_nbformat": 4
 },
 "nbformat": 4,
 "nbformat_minor": 2
}
