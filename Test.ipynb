{
 "cells": [
  {
   "cell_type": "code",
   "execution_count": 13,
   "metadata": {},
   "outputs": [],
   "source": [
    "%run MyNoteBook.py"
   ]
  },
  {
   "cell_type": "code",
   "execution_count": 14,
   "metadata": {},
   "outputs": [],
   "source": [
    "import Functions\n",
    "from sklearn.decomposition import PCA\n",
    "import pandas as pd"
   ]
  },
  {
   "cell_type": "code",
   "execution_count": 19,
   "metadata": {},
   "outputs": [
    {
     "name": "stdout",
     "output_type": "stream",
     "text": [
      "40E170A7-607B-4578-AF04-F021C3B0384A failed to export\n",
      "61359772-D8D8-480D-B623-7C636EAD0C81 failed to export\n",
      "61976C24-1C50-4355-9C49-AAE44A7D09F6 failed to export\n",
      "7D9BB102-A612-4E2A-8E22-3159752F55D8 failed to export\n",
      "CCAF77F0-FABB-4F2F-9E24-D56AD0C5A82F failed to export\n",
      "ECECC2AB-D32F-4F90-B74C-E12A1C69BBE2 failed to export\n",
      "F50235E0-DD67-4F2A-B00B-1F31ADA998B9 failed to export\n",
      "FDAA70A1-42A3-4E3F-9AE3-3FDA412E03BF failed to export\n"
     ]
    }
   ],
   "source": [
    "uuid_list = []\n",
    "f = open('UUID List.txt', 'r')\n",
    "for line in f.readlines():\n",
    "    uuid_list.append(line.strip())\n",
    "valid_data = pd.DataFrame()\n",
    "for uuid in uuid_list:\n",
    "    df = Functions.get_df(uuid)\n",
    "    try:\n",
    "        cleaned_data = Functions.non_watch_value_imputer(df)\n",
    "        cleaned_data = Functions.KNN_for_watch_data(cleaned_data,10)\n",
    "        muti_index = pd.MultiIndex.from_product([[uuid], cleaned_data.index], names=['uuid','timestamps'])\n",
    "        cleaned_data = pd.DataFrame(cleaned_data.values, columns=cleaned_data.columns, index=muti_index)\n",
    "        valid_data = pd.concat([valid_data,cleaned_data],axis=0,ignore_index=False)\n",
    "    except:\n",
    "        print(uuid,'failed to export')\n",
    "valid_data.to_csv('cleaned_data.zip',mode = 'w',compression= 'gzip')"
   ]
  },
  {
   "cell_type": "code",
   "execution_count": 18,
   "metadata": {},
   "outputs": [
    {
     "data": {
      "text/plain": [
       "52"
      ]
     },
     "execution_count": 18,
     "metadata": {},
     "output_type": "execute_result"
    }
   ],
   "source": [
    "data = pd.read_csv('cleaned_data.csv',index_col=[0,1])\n",
    "len(data.groupby('uuid').count().index)\n",
    "\n",
    "\n"
   ]
  },
  {
   "cell_type": "code",
   "execution_count": null,
   "metadata": {},
   "outputs": [
    {
     "name": "stdout",
     "output_type": "stream",
     "text": [
      "['0BFC35E2-4817-4865-BFA7-764742302A2D', '0E6184E1-90C0-48EE-B25A-F1ECB7B9714E', '1155FF54-63D3-4AB2-9863-8385D0BD0A13', '1DBB0F6F-1F81-4A50-9DF4-CD62ACFA4842', '27E04243-B138-4F40-A164-F40B60165CF3', '00EABED2-271D-49D8-B599-1D4A09240601', '098A72A5-E3E5-4F54-A152-BBDA0DF7B694', '0A986513-7828-4D53-AA1F-E02D6DF9561B', '11B5EC4D-4133-4289-B475-4E737182A406', '136562B6-95B2-483D-88DC-065F28409FD2', '1538C99F-BA1E-4EFB-A949-6C7C47701B20', '24E40C4C-A349-4F9F-93AB-01D00FB994AF']\n"
     ]
    }
   ],
   "source": [
    "print(Valid_Datasets.get_cross_validation('test',0))"
   ]
  }
 ],
 "metadata": {
  "kernelspec": {
   "display_name": "Python 3",
   "language": "python",
   "name": "python3"
  },
  "language_info": {
   "codemirror_mode": {
    "name": "ipython",
    "version": 3
   },
   "file_extension": ".py",
   "mimetype": "text/x-python",
   "name": "python",
   "nbconvert_exporter": "python",
   "pygments_lexer": "ipython3",
   "version": "3.8.4"
  },
  "orig_nbformat": 4
 },
 "nbformat": 4,
 "nbformat_minor": 2
}
