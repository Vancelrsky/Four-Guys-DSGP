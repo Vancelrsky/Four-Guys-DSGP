{
 "cells": [
  {
   "cell_type": "code",
   "execution_count": 1,
   "metadata": {},
   "outputs": [],
   "source": [
    "%run MyNoteBook.py"
   ]
  },
  {
   "cell_type": "code",
   "execution_count": 1,
   "metadata": {},
   "outputs": [],
   "source": [
    "import Functions\n",
    "from sklearn.decomposition import PCA\n",
    "import pandas as pd\n",
    "import gzip\n",
    "import numpy as np"
   ]
  },
  {
   "cell_type": "code",
   "execution_count": 61,
   "metadata": {},
   "outputs": [
    {
     "data": {
      "text/plain": [
       "Status\n",
       "6         101953\n",
       "0          76282\n",
       "4          54441\n",
       "1          52496\n",
       "2          21894\n",
       "3          17090\n",
       "5           9891\n",
       "dtype: int64"
      ]
     },
     "execution_count": 61,
     "metadata": {},
     "output_type": "execute_result"
    }
   ],
   "source": [
    "with gzip.open('cleaned_data.zip','rb') as data:\n",
    "    data = pd.read_csv(data,index_col=[0,1])\n",
    "\n",
    "resting = ['SLEEPING','LYING_DOWN']\n",
    "\n",
    "\n",
    "phone_state = ['PHONE_IN_POCKET','PHONE_IN_HAND', 'PHONE_IN_BAG', 'PHONE_ON_TABLE']\n",
    "body_state = ['SITTING','FIX_walking', 'FIX_running', 'OR_standing']\n",
    "loc_state = ['OR_indoors', 'OR_outside', 'LOC_home', 'LOC_main_workplace','AT_SCHOOL','IN_A_CAR', 'ON_A_BUS']\n",
    "focus = ['LAB_WORK', 'IN_CLASS', 'IN_A_MEETING','COMPUTER_WORK', 'WITH_CO-WORKERS', 'DRIVE_-_I_M_THE_DRIVER','TALKING']\n",
    "\n",
    "housekeeping = ['COOKING', 'BATHING_-_SHOWER', 'CLEANING', 'DOING_LAUNDRY', 'WASHING_DISHES', 'EATING', 'TOILET', 'GROOMING', 'DRESSING']\n",
    "exercising = ['BICYCLING','OR_exercise','STAIRS_-_GOING_UP','STAIRS_-_GOING_DOWN', 'ELEVATOR']\n",
    "quiet_entertainment = ['FIX_restaurant','WATCHING_TV', 'SURFING_THE_INTERNET', 'LOC_beach','WITH_FRIENDS','DRIVE_-_I_M_A_PASSENGER']\n",
    "busy_entertainment = ['SHOPPING', 'STROLLING', 'DRINKING__ALCOHOL_', 'AT_A_PARTY', 'AT_A_BAR','SINGING']\n",
    "main_label_list = []\n",
    "\n",
    "new_label_list = ['sleep','entertainment','exercise','life_activity','efficiency','on_the_way']\n",
    "new_label_dict = {'sleep':0,'entertainment':1,'exercise':2,'life_activity':3,'efficiency':4,'on_the_way':5,'Normal':6}\n",
    "all_label_list = []\n",
    "\n",
    "for i in main_label_list:\n",
    "    all_label_list = all_label_list + i\n",
    "\n",
    "new_label_data = pd.DataFrame()\n",
    "for uuid in data.groupby('uuid').count().index:\n",
    "    X,Y,M,timestamps,feature_names,label_names = Functions.read_user_data(uuid)\n",
    "    label_pair = pd.DataFrame(\n",
    "        columns = ['Label Name'],\n",
    "        index = timestamps\n",
    "    )\n",
    "    s = Y.shape\n",
    "\n",
    "\n",
    "    for i in range(0,s[0]): #跑每個timestamps\n",
    "        arr = np.where(Y[i]==1) #尋找這個timestamp 哪些label是ture\n",
    "        temp = []\n",
    "        for j in arr[0]:\n",
    "            temp.append(label_names[j]) #將這個timestamp true的label name拼成list\n",
    "        label_pair.loc[timestamps[i], 'Label Name'] = temp #把list放進對應的dataframe位置\n",
    "\n",
    "    new_label = []\n",
    "    for index in range(len(label_pair.index)):\n",
    "        label = label_pair.iloc[index].values[0]\n",
    "        print(label)\n",
    "        break\n",
    "        for num,status in enumerate(main_label_list):\n",
    "            if bool(set(status) & set(label)):\n",
    "                new_label.append(num)\n",
    "                break\n",
    "            elif bool(set(label) & set(all_label_list)):\n",
    "                continue\n",
    "            else:\n",
    "                new_label.append(new_label_dict['Normal'])\n",
    "                break\n",
    "\n",
    "    #muti_index = pd.MultiIndex.from_product([[uuid], X.index], names=['uuid','timestamps'])\n",
    "    #new_label = pd.DataFrame(data = new_label, index = muti_index,columns = ['Status'])\n",
    "    #new_label_data = pd.concat([new_label_data,new_label],axis=0,ignore_index=False)\n",
    "\n",
    "new_label_data.value_counts()"
   ]
  },
  {
   "cell_type": "code",
   "execution_count": 4,
   "metadata": {},
   "outputs": [
    {
     "name": "stdout",
     "output_type": "stream",
     "text": [
      "1444113394 []\n",
      "1444113494 []\n",
      "1444113945 []\n",
      "1444113987 []\n",
      "1444114288 []\n",
      "1444114465 []\n",
      "1444114591 []\n",
      "1444114836 []\n",
      "1444115006 []\n",
      "1444115306 []\n",
      "1444115380 []\n",
      "1444115434 []\n",
      "1444115486 []\n",
      "1444115559 []\n",
      "1444115594 []\n",
      "1444115659 []\n",
      "1444115853 []\n",
      "1444116092 []\n",
      "1444116267 []\n",
      "1444116446 []\n",
      "1444116519 []\n",
      "1444153216 []\n",
      "1444153276 []\n",
      "1444358641 []\n",
      "1444358821 []\n",
      "1444358941 []\n",
      "1444359061 []\n",
      "1444359121 []\n",
      "1444359181 []\n",
      "1444359241 []\n",
      "1444359301 []\n",
      "1444359601 []\n",
      "1444359661 []\n",
      "1444359721 []\n",
      "1444359781 []\n",
      "1444359841 []\n",
      "1444359901 []\n",
      "1444359961 []\n",
      "1444360021 []\n",
      "1444360081 []\n",
      "1444360141 []\n",
      "1444360201 []\n",
      "1444360261 []\n",
      "1444360321 []\n",
      "1444360381 []\n",
      "1444360441 []\n",
      "1444360501 []\n",
      "1444360561 []\n",
      "1444360621 []\n",
      "1444360681 []\n",
      "1444360981 []\n",
      "1444361041 []\n",
      "1444361101 []\n",
      "1444361281 []\n",
      "1444361401 []\n",
      "1444361521 []\n",
      "1444361581 []\n",
      "1444361641 []\n",
      "1444361701 []\n",
      "1444361881 []\n",
      "1444362061 []\n",
      "1444362121 []\n",
      "1444362181 []\n",
      "1444362241 []\n",
      "1444362301 []\n",
      "1444362361 []\n",
      "1444362421 []\n",
      "1444362481 []\n",
      "1444362661 []\n",
      "1444362781 []\n",
      "1444362901 []\n",
      "1444363021 []\n",
      "1444363081 []\n",
      "1444448290 []\n",
      "1444450227 []\n",
      "1444512669 []\n",
      "1444523415 []\n",
      "1444620787 []\n",
      "1444629669 []\n",
      "1444663747 []\n",
      "00EABED2-271D-49D8-B599-1D4A09240601\n"
     ]
    },
    {
     "data": {
      "text/plain": [
       "\"         for num,status in enumerate(main_label_list):\\n            if bool(set(status) & set(label)):\\n                new_label.append(num)\\n                break\\n            elif bool(set(label) & set(all_label_list)):\\n                continue\\n            else:\\n                new_label.append(new_label_dict['Normal'])\\n                break \""
      ]
     },
     "execution_count": 4,
     "metadata": {},
     "output_type": "execute_result"
    }
   ],
   "source": [
    "with gzip.open('cleaned_data.zip','rb') as data:\n",
    "    data = pd.read_csv(data,index_col=[0,1])\n",
    "main_label_list = [['SLEEPING'],\n",
    "                   ['FIX_restaurant','SHOPPING', 'STROLLING', 'DRINKING__ALCOHOL_','WATCHING_TV', 'SURFING_THE_INTERNET', 'AT_A_PARTY', 'AT_A_BAR', 'LOC_beach', 'SINGING', 'WITH_FRIENDS'],\n",
    "                   ['FIX_walking', 'FIX_running', 'BICYCLING','OR_exercise'],\n",
    "                   ['COOKING', 'BATHING_-_SHOWER', 'CLEANING', 'DOING_LAUNDRY', 'WASHING_DISHES', 'EATING', 'TOILET', 'GROOMING', 'DRESSING'],\n",
    "                   ['LAB_WORK', 'IN_CLASS', 'IN_A_MEETING', 'LOC_main_workplace','COMPUTER_WORK','AT_SCHOOL', 'WITH_CO-WORKERS'],\n",
    "                   ['IN_A_CAR', 'ON_A_BUS', 'DRIVE_-_I_M_THE_DRIVER', 'DRIVE_-_I_M_A_PASSENGER','STAIRS_-_GOING_DOWN', 'ELEVATOR']]\n",
    "new_label_list = ['sleep','entertainment','exercise','life_activity','efficiency','on_the_way']\n",
    "new_label_dict = {'sleep':0,'entertainment':1,'exercise':2,'life_activity':3,'efficiency':4,'on_the_way':5,'Normal':6}\n",
    "all_label_list = []\n",
    "\n",
    "for i in main_label_list:\n",
    "    all_label_list = all_label_list + i\n",
    "uuid_list = list(data.groupby('uuid').count().index)\n",
    "new_label_data = pd.DataFrame()\n",
    "for uuid in [uuid_list[0]]:\n",
    "    X,Y,M,timestamps,feature_names,label_names = Functions.read_user_data(uuid)\n",
    "    label_pair = pd.DataFrame(\n",
    "        columns = ['Label Name'],\n",
    "        index = timestamps\n",
    "    )\n",
    "    s = Y.shape\n",
    "\n",
    "\n",
    "    for i in range(0,s[0]): #跑每個timestamps\n",
    "        arr = np.where(Y[i]==1) #尋找這個timestamp 哪些label是ture\n",
    "        temp = []\n",
    "        for j in arr[0]:\n",
    "            temp.append(label_names[j]) #將這個timestamp true的label name拼成list\n",
    "        label_pair.loc[timestamps[i], 'Label Name'] = temp #把list放進對應的dataframe位置\n",
    "    new_label = []\n",
    "\n",
    "    for index in label_pair.index:\n",
    "        label = label_pair.loc[index].values[0]\n",
    "        if bool(label) == True:\n",
    "            for num,status in enumerate(main_label_list):\n",
    "                if bool(set(status) & set(label)):\n",
    "                    new_label.append(num)\n",
    "                    break\n",
    "                elif bool(set(label) & set(all_label_list)):\n",
    "                    continue\n",
    "                else:\n",
    "                    new_label.append(new_label_dict['Normal'])\n",
    "                    break \n",
    "\n",
    "    #muti_index = pd.MultiIndex.from_product([[uuid], X.index], names=['uuid','timestamps'])\n",
    "    #new_label = pd.DataFrame(data = new_label, index = muti_index,columns = ['Status'])\n",
    "    #new_label_data = pd.concat([new_label_data,new_label],axis=0,ignore_index=False)\n"
   ]
  },
  {
   "cell_type": "code",
   "execution_count": 9,
   "metadata": {},
   "outputs": [
    {
     "data": {
      "text/html": [
       "<div>\n",
       "<style scoped>\n",
       "    .dataframe tbody tr th:only-of-type {\n",
       "        vertical-align: middle;\n",
       "    }\n",
       "\n",
       "    .dataframe tbody tr th {\n",
       "        vertical-align: top;\n",
       "    }\n",
       "\n",
       "    .dataframe thead th {\n",
       "        text-align: right;\n",
       "    }\n",
       "</style>\n",
       "<table border=\"1\" class=\"dataframe\">\n",
       "  <thead>\n",
       "    <tr style=\"text-align: right;\">\n",
       "      <th></th>\n",
       "      <th>Label Name</th>\n",
       "    </tr>\n",
       "    <tr>\n",
       "      <th>timestamp</th>\n",
       "      <th></th>\n",
       "    </tr>\n",
       "  </thead>\n",
       "  <tbody>\n",
       "    <tr>\n",
       "      <th>1442358663</th>\n",
       "      <td>[SITTING, LOC_main_workplace]</td>\n",
       "    </tr>\n",
       "    <tr>\n",
       "      <th>1442358724</th>\n",
       "      <td>[SITTING, LOC_main_workplace]</td>\n",
       "    </tr>\n",
       "    <tr>\n",
       "      <th>1442358784</th>\n",
       "      <td>[SITTING, LOC_main_workplace]</td>\n",
       "    </tr>\n",
       "    <tr>\n",
       "      <th>1442358844</th>\n",
       "      <td>[SITTING, LOC_main_workplace]</td>\n",
       "    </tr>\n",
       "    <tr>\n",
       "      <th>1442358904</th>\n",
       "      <td>[SITTING, LOC_main_workplace]</td>\n",
       "    </tr>\n",
       "    <tr>\n",
       "      <th>...</th>\n",
       "      <td>...</td>\n",
       "    </tr>\n",
       "    <tr>\n",
       "      <th>1442577968</th>\n",
       "      <td>[]</td>\n",
       "    </tr>\n",
       "    <tr>\n",
       "      <th>1442578028</th>\n",
       "      <td>[]</td>\n",
       "    </tr>\n",
       "    <tr>\n",
       "      <th>1442941382</th>\n",
       "      <td>[]</td>\n",
       "    </tr>\n",
       "    <tr>\n",
       "      <th>1442941442</th>\n",
       "      <td>[]</td>\n",
       "    </tr>\n",
       "    <tr>\n",
       "      <th>1442941502</th>\n",
       "      <td>[]</td>\n",
       "    </tr>\n",
       "  </tbody>\n",
       "</table>\n",
       "<p>3441 rows × 1 columns</p>\n",
       "</div>"
      ],
      "text/plain": [
       "                               Label Name\n",
       "timestamp                                \n",
       "1442358663  [SITTING, LOC_main_workplace]\n",
       "1442358724  [SITTING, LOC_main_workplace]\n",
       "1442358784  [SITTING, LOC_main_workplace]\n",
       "1442358844  [SITTING, LOC_main_workplace]\n",
       "1442358904  [SITTING, LOC_main_workplace]\n",
       "...                                   ...\n",
       "1442577968                             []\n",
       "1442578028                             []\n",
       "1442941382                             []\n",
       "1442941442                             []\n",
       "1442941502                             []\n",
       "\n",
       "[3441 rows x 1 columns]"
      ]
     },
     "execution_count": 9,
     "metadata": {},
     "output_type": "execute_result"
    }
   ],
   "source": [
    "label_pair"
   ]
  },
  {
   "cell_type": "code",
   "execution_count": 10,
   "metadata": {},
   "outputs": [
    {
     "ename": "TypeError",
     "evalue": "unhashable type: 'numpy.ndarray'",
     "output_type": "error",
     "traceback": [
      "\u001b[1;31m---------------------------------------------------------------------------\u001b[0m",
      "\u001b[1;31mTypeError\u001b[0m                                 Traceback (most recent call last)",
      "\u001b[1;32m<ipython-input-10-b29c25239366>\u001b[0m in \u001b[0;36m<module>\u001b[1;34m\u001b[0m\n\u001b[0;32m      1\u001b[0m \u001b[0ml_dict\u001b[0m \u001b[1;33m=\u001b[0m \u001b[1;33m{\u001b[0m\u001b[1;33m}\u001b[0m\u001b[1;33m\u001b[0m\u001b[1;33m\u001b[0m\u001b[0m\n\u001b[0;32m      2\u001b[0m \u001b[1;32mfor\u001b[0m \u001b[0mkey\u001b[0m \u001b[1;32min\u001b[0m \u001b[0mlabel_pair\u001b[0m\u001b[1;33m.\u001b[0m\u001b[0mvalues\u001b[0m\u001b[1;33m:\u001b[0m\u001b[1;33m\u001b[0m\u001b[1;33m\u001b[0m\u001b[0m\n\u001b[1;32m----> 3\u001b[1;33m     \u001b[0ml_dict\u001b[0m\u001b[1;33m[\u001b[0m\u001b[0mkey\u001b[0m\u001b[1;33m]\u001b[0m \u001b[1;33m=\u001b[0m \u001b[0ml_dict\u001b[0m\u001b[1;33m.\u001b[0m\u001b[0mget\u001b[0m\u001b[1;33m(\u001b[0m\u001b[0mkey\u001b[0m\u001b[1;33m,\u001b[0m \u001b[1;36m0\u001b[0m\u001b[1;33m)\u001b[0m \u001b[1;33m+\u001b[0m \u001b[1;36m1\u001b[0m\u001b[1;33m\u001b[0m\u001b[1;33m\u001b[0m\u001b[0m\n\u001b[0m\u001b[0;32m      4\u001b[0m \u001b[0ml_dict\u001b[0m\u001b[1;33m\u001b[0m\u001b[1;33m\u001b[0m\u001b[0m\n",
      "\u001b[1;31mTypeError\u001b[0m: unhashable type: 'numpy.ndarray'"
     ]
    }
   ],
   "source": [
    "l_dict = {}\n",
    "for key in label_pair.values:\n",
    "    l_dict[key] = l_dict.get(key, 0) + 1\n",
    "l_dict"
   ]
  },
  {
   "cell_type": "code",
   "execution_count": 6,
   "metadata": {},
   "outputs": [
    {
     "data": {
      "text/plain": [
       "{'SITTING': 99,\n",
       " 'LOC_main_workplace': 153,\n",
       " 'COMPUTER_WORK': 167,\n",
       " 'FIX_walking': 12,\n",
       " 'OR_indoors': 19,\n",
       " 'TOILET': 10,\n",
       " 'OR_standing': 56,\n",
       " 'LOC_home': 9}"
      ]
     },
     "execution_count": 6,
     "metadata": {},
     "output_type": "execute_result"
    }
   ],
   "source": [
    "Functions.get_related_label('COMPUTER_WORK')\n"
   ]
  },
  {
   "cell_type": "code",
   "execution_count": 69,
   "metadata": {},
   "outputs": [
    {
     "data": {
      "text/plain": [
       "{'SITTING': 757,\n",
       " 'LOC_main_workplace': 365,\n",
       " 'COMPUTER_WORK': 99,\n",
       " 'TALKING': 60,\n",
       " 'EATING': 113,\n",
       " 'OR_indoors': 92,\n",
       " 'LOC_home': 92,\n",
       " 'SURFING_THE_INTERNET': 11,\n",
       " 'WATCHING_TV': 20,\n",
       " 'DRESSING': 10,\n",
       " 'IN_A_MEETING': 138,\n",
       " 'IN_A_CAR': 45,\n",
       " 'PHONE_IN_BAG': 30}"
      ]
     },
     "execution_count": 69,
     "metadata": {},
     "output_type": "execute_result"
    }
   ],
   "source": [
    "\n"
   ]
  },
  {
   "cell_type": "code",
   "execution_count": 36,
   "metadata": {},
   "outputs": [
    {
     "data": {
      "text/plain": [
       "array([False, False, False, False, False, False, False, False, False,\n",
       "       False, False, False, False, False, False, False, False, False,\n",
       "       False, False, False, False, False, False, False, False, False,\n",
       "       False, False, False, False, False, False, False, False, False,\n",
       "       False, False, False, False, False, False, False, False, False,\n",
       "       False, False, False, False, False, False])"
      ]
     },
     "execution_count": 36,
     "metadata": {},
     "output_type": "execute_result"
    }
   ],
   "source": [
    "each"
   ]
  },
  {
   "cell_type": "code",
   "execution_count": 35,
   "metadata": {},
   "outputs": [
    {
     "data": {
      "text/plain": [
       "Status                \n",
       "SITTING                   119500\n",
       "LYING_DOWN                 93798\n",
       "None                       42492\n",
       "FIX_walking                20272\n",
       "OR_indoors                 16367\n",
       "LOC_home                   13427\n",
       "LOC_main_workplace          7892\n",
       "BICYCLING                   4741\n",
       "OR_standing                 4368\n",
       "OR_outside                  1749\n",
       "PHONE_IN_POCKET             1516\n",
       "LAB_WORK                    1300\n",
       "FIX_running                 1073\n",
       "TALKING                      737\n",
       "COOKING                      673\n",
       "AT_A_PARTY                   546\n",
       "IN_A_MEETING                 520\n",
       "OR_exercise                  489\n",
       "DRINKING__ALCOHOL_           430\n",
       "IN_CLASS                     239\n",
       "LOC_beach                    232\n",
       "SLEEPING                     185\n",
       "COMPUTER_WORK                180\n",
       "GROOMING                     157\n",
       "FIX_restaurant               149\n",
       "CLEANING                     142\n",
       "IN_A_CAR                     136\n",
       "ON_A_BUS                     134\n",
       "SURFING_THE_INTERNET         120\n",
       "SHOPPING                     110\n",
       "WASHING_DISHES                92\n",
       "WATCHING_TV                   82\n",
       "DRESSING                      80\n",
       "EATING                        38\n",
       "PHONE_ON_TABLE                27\n",
       "DRIVE_-_I_M_THE_DRIVER        27\n",
       "DOING_LAUNDRY                 13\n",
       "PHONE_IN_HAND                  7\n",
       "PHONE_IN_BAG                   5\n",
       "TOILET                         2\n",
       "dtype: int64"
      ]
     },
     "execution_count": 35,
     "metadata": {},
     "output_type": "execute_result"
    }
   ],
   "source": [
    "new_label_data.value_counts()"
   ]
  },
  {
   "cell_type": "code",
   "execution_count": 13,
   "metadata": {},
   "outputs": [],
   "source": [
    "from xgboost import XGBClassifier\n",
    "from sklearn.model_selection import train_test_split\n",
    "from sklearn.metrics import accuracy_score"
   ]
  },
  {
   "cell_type": "code",
   "execution_count": 23,
   "metadata": {},
   "outputs": [],
   "source": [
    "with gzip.open('cleaned_data.zip','rb') as file:\n",
    "    feature_data = pd.read_csv(file,index_col=[0,1])\n",
    "# split data\n",
    "X_train, X_test, Y_train, Y_test = train_test_split(feature_data,new_label_data,test_size= 0.2, random_state = 6)\n",
    "\n"
   ]
  },
  {
   "cell_type": "code",
   "execution_count": 24,
   "metadata": {},
   "outputs": [
    {
     "name": "stdout",
     "output_type": "stream",
     "text": [
      "XGBClassifier(base_score=None, booster=None, callbacks=None,\n",
      "              colsample_bylevel=None, colsample_bynode=None,\n",
      "              colsample_bytree=None, early_stopping_rounds=None,\n",
      "              enable_categorical=False, eval_metric=None, feature_types=None,\n",
      "              gamma=None, gpu_id=None, grow_policy=None, importance_type=None,\n",
      "              interaction_constraints=None, learning_rate=None, max_bin=None,\n",
      "              max_cat_threshold=None, max_cat_to_onehot=None,\n",
      "              max_delta_step=None, max_depth=None, max_leaves=None,\n",
      "              min_child_weight=None, missing=nan, monotone_constraints=None,\n",
      "              n_estimators=100, n_jobs=None, num_parallel_tree=None,\n",
      "              objective='multi:softprob', predictor=None, ...)\n"
     ]
    }
   ],
   "source": [
    "# fit model \n",
    "model = XGBClassifier()\n",
    "model.fit(X_train, Y_train)\n",
    "print(model)"
   ]
  },
  {
   "cell_type": "code",
   "execution_count": 25,
   "metadata": {},
   "outputs": [
    {
     "name": "stdout",
     "output_type": "stream",
     "text": [
      "Accuracy: 80.03%\n"
     ]
    }
   ],
   "source": [
    "# make predictions for test data\n",
    "Y_pred = model.predict(X_test)\n",
    "predictions = [round(value) for value in Y_pred]\n",
    "# evaluate predictions\n",
    "accuracy = accuracy_score(Y_test, predictions)\n",
    "print(\"Accuracy: %.2f%%\" % (accuracy * 100.0))"
   ]
  }
 ],
 "metadata": {
  "kernelspec": {
   "display_name": "Python 3",
   "language": "python",
   "name": "python3"
  },
  "language_info": {
   "codemirror_mode": {
    "name": "ipython",
    "version": 3
   },
   "file_extension": ".py",
   "mimetype": "text/x-python",
   "name": "python",
   "nbconvert_exporter": "python",
   "pygments_lexer": "ipython3",
   "version": "3.8.4"
  },
  "orig_nbformat": 4
 },
 "nbformat": 4,
 "nbformat_minor": 2
}
